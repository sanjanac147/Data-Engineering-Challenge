{
 "cells": [
  {
   "cell_type": "code",
   "execution_count": 14,
   "metadata": {},
   "outputs": [
    {
     "name": "stdout",
     "output_type": "stream",
     "text": [
      "CSV file created successfully.\n"
     ]
    }
   ],
   "source": [
    "import os\n",
    "import csv\n",
    "import pandas as pd\n",
    "import re\n",
    "import nltk\n",
    "from nltk.tokenize import word_tokenize\n",
    "from nltk.corpus import stopwords\n",
    "from sklearn.feature_extraction.text import TfidfVectorizer\n",
    "from sklearn.preprocessing import LabelEncoder\n",
    "\n",
    "def read_text_file(file_path):\n",
    "    \"\"\"\n",
    "    Read text content from a file.\n",
    "\n",
    "    Args:\n",
    "        file_path (str): Path to the text file.\n",
    "\n",
    "    Returns:\n",
    "        str: Content of the text file.\n",
    "    \"\"\"\n",
    "    with open(file_path, 'r', encoding='utf-8') as file:\n",
    "        return file.read()\n",
    "\n",
    "def create_csv_from_text_files(folder_path, csv_file_path):\n",
    "    \"\"\"\n",
    "    Create a CSV file from text files in a folder.\n",
    "\n",
    "    Args:\n",
    "        folder_path (str): Path to the folder containing text files.\n",
    "        csv_file_path (str): Path to the CSV file to be created.\n",
    "    \"\"\"\n",
    "    with open(csv_file_path, 'w', newline='', encoding='utf-8') as csv_file:\n",
    "        csv_writer = csv.writer(csv_file)\n",
    "        csv_writer.writerow(['article_id', 'text', 'category'])\n",
    "        for file_name in os.listdir(folder_path):\n",
    "            if file_name.endswith('.txt'):\n",
    "                try:\n",
    "                    article_id, category = file_name.split('_')\n",
    "                    category = category[:-4]\n",
    "                    text = read_text_file(os.path.join(folder_path, file_name))\n",
    "                    csv_writer.writerow([article_id, text, category])\n",
    "                except Exception as e:\n",
    "                    print(f\"Error processing file '{file_name}': {e}\")\n",
    "\n",
    "if __name__ == \"__main__\":\n",
    "    # Step 1: Create a structured CSV file from text files\n",
    "    folder_path = 'BBC_articles'\n",
    "    csv_file_path = 'bbc_articles.csv'\n",
    "    create_csv_from_text_files(folder_path, csv_file_path)\n",
    "    print(\"CSV file created successfully.\")\n",
    "\n",
    "    # Step 2: Read the structured CSV file into a DataFrame\n",
    "    df = pd.read_csv(csv_file_path)\n"
   ]
  },
  {
   "cell_type": "code",
   "execution_count": 15,
   "metadata": {},
   "outputs": [
    {
     "name": "stderr",
     "output_type": "stream",
     "text": [
      "[nltk_data] Downloading package punkt to\n",
      "[nltk_data]     C:\\Users\\sanja_cnt0knj\\AppData\\Roaming\\nltk_data...\n",
      "[nltk_data]   Package punkt is already up-to-date!\n",
      "[nltk_data] Downloading package stopwords to\n",
      "[nltk_data]     C:\\Users\\sanja_cnt0knj\\AppData\\Roaming\\nltk_data...\n",
      "[nltk_data]   Package stopwords is already up-to-date!\n"
     ]
    },
    {
     "name": "stdout",
     "output_type": "stream",
     "text": [
      "New CSV file with numerical features and labels created successfully.\n"
     ]
    }
   ],
   "source": [
    "# Step 3: Preprocess text data and perform TF-IDF vectorization\n",
    "# Download NLTK resources\n",
    "nltk.download('punkt')\n",
    "nltk.download('stopwords')\n",
    "\n",
    "# Function to preprocess text\n",
    "def preprocess_text(text):\n",
    "    \"\"\"\n",
    "    Preprocess the text data.\n",
    "\n",
    "    Args:\n",
    "        text (str): Input text data.\n",
    "\n",
    "    Returns:\n",
    "        str: Preprocessed text data.\n",
    "    \"\"\"\n",
    "    # Convert text to lowercase\n",
    "    text = text.lower()\n",
    "    # Remove punctuation and numbers\n",
    "    text = re.sub(r'[^a-zA-Z\\s]', '', text)\n",
    "    # Tokenize the text\n",
    "    tokens = word_tokenize(text)\n",
    "    # Remove stopwords\n",
    "    tokens = [word for word in tokens if word not in stopwords.words('english')]\n",
    "    return ' '.join(tokens)\n",
    "\n",
    "# Apply text preprocessing\n",
    "df['processed_text'] = df['text'].apply(preprocess_text)\n",
    "\n",
    "# TF-IDF Vectorization\n",
    "tfidf_vectorizer = TfidfVectorizer(max_features=1000)  # Limiting to 1000 features\n",
    "tfidf_features = tfidf_vectorizer.fit_transform(df['processed_text'])\n",
    "\n",
    "# Convert category labels to numerical values\n",
    "label_encoder = LabelEncoder()\n",
    "df['category_label'] = label_encoder.fit_transform(df['category'])\n",
    "\n",
    "# Step 4: Create a DataFrame with numerical features and labels\n",
    "df_features = pd.DataFrame(tfidf_features.toarray(), columns=tfidf_vectorizer.get_feature_names_out())\n",
    "df_final = pd.concat([df_features, df['category_label']], axis=1)\n",
    "\n",
    "# Step 5: Save the new CSV file with numerical features and labels\n",
    "df_final.to_csv('vectorized_dataset.csv', index=False)\n",
    "print(\"New CSV file with numerical features and labels created successfully.\")"
   ]
  },
  {
   "cell_type": "code",
   "execution_count": null,
   "metadata": {},
   "outputs": [],
   "source": []
  }
 ],
 "metadata": {
  "kernelspec": {
   "display_name": "Python 3",
   "language": "python",
   "name": "python3"
  },
  "language_info": {
   "codemirror_mode": {
    "name": "ipython",
    "version": 3
   },
   "file_extension": ".py",
   "mimetype": "text/x-python",
   "name": "python",
   "nbconvert_exporter": "python",
   "pygments_lexer": "ipython3",
   "version": "3.11.5"
  }
 },
 "nbformat": 4,
 "nbformat_minor": 2
}
